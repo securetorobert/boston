{
 "cells": [
  {
   "cell_type": "code",
   "execution_count": 1,
   "metadata": {},
   "outputs": [],
   "source": [
    "import numpy as np\n",
    "import pandas as pd\n",
    "import tensorflow as tf\n",
    "from sklearn.model_selection import train_test_split"
   ]
  },
  {
   "cell_type": "code",
   "execution_count": 2,
   "metadata": {},
   "outputs": [],
   "source": [
    "train_df = pd.read_csv('./train.csv')"
   ]
  },
  {
   "cell_type": "code",
   "execution_count": 3,
   "metadata": {},
   "outputs": [
    {
     "name": "stdout",
     "output_type": "stream",
     "text": [
      "<class 'pandas.core.frame.DataFrame'>\n",
      "RangeIndex: 333 entries, 0 to 332\n",
      "Data columns (total 15 columns):\n",
      "ID         333 non-null int64\n",
      "crim       333 non-null float64\n",
      "zn         333 non-null float64\n",
      "indus      333 non-null float64\n",
      "chas       333 non-null int64\n",
      "nox        333 non-null float64\n",
      "rm         333 non-null float64\n",
      "age        333 non-null float64\n",
      "dis        333 non-null float64\n",
      "rad        333 non-null int64\n",
      "tax        333 non-null int64\n",
      "ptratio    333 non-null float64\n",
      "black      333 non-null float64\n",
      "lstat      333 non-null float64\n",
      "medv       333 non-null float64\n",
      "dtypes: float64(11), int64(4)\n",
      "memory usage: 39.1 KB\n"
     ]
    }
   ],
   "source": [
    "train_df.info()"
   ]
  },
  {
   "cell_type": "markdown",
   "metadata": {},
   "source": [
    "# Define Feature Columns"
   ]
  },
  {
   "cell_type": "code",
   "execution_count": 4,
   "metadata": {},
   "outputs": [],
   "source": [
    "crim = tf.feature_column.numeric_column('crim', dtype=tf.float64, shape=())\n",
    "zn = tf.feature_column.numeric_column('zn', dtype=tf.float64, shape=())\n",
    "indus = tf.feature_column.numeric_column('indus', dtype=tf.float64, shape=())\n",
    "chas = tf.feature_column.numeric_column('chas', dtype=tf.int64, shape=())\n",
    "nox = tf.feature_column.numeric_column('nox', dtype=tf.float64, shape=())\n",
    "rm = tf.feature_column.numeric_column('rm', dtype=tf.float64, shape=())\n",
    "age = tf.feature_column.numeric_column('age', dtype=tf.float64, shape=())\n",
    "dis = tf.feature_column.numeric_column('dis', dtype=tf.float64, shape=())\n",
    "rad = tf.feature_column.numeric_column('rad', dtype=tf.int64, shape=())\n",
    "tax = tf.feature_column.numeric_column('tax', dtype=tf.int64, shape=())\n",
    "ptratio = tf.feature_column.numeric_column('ptratio', dtype=tf.float64, shape=())\n",
    "black = tf.feature_column.numeric_column('black', dtype=tf.float64, shape=())\n",
    "lstat = tf.feature_column.numeric_column('lstat', dtype=tf.float64, shape=())"
   ]
  },
  {
   "cell_type": "code",
   "execution_count": 5,
   "metadata": {},
   "outputs": [],
   "source": [
    "feature_cols = [crim, zn, indus, chas, nox, rm, age, dis, rad, tax, ptratio, black, lstat]"
   ]
  },
  {
   "cell_type": "markdown",
   "metadata": {},
   "source": [
    "# Prepare Data for Input Functions"
   ]
  },
  {
   "cell_type": "code",
   "execution_count": 6,
   "metadata": {},
   "outputs": [],
   "source": [
    "feature_names = ['crim', 'zn', 'indus', 'chas', 'nox', 'rm', 'age', 'dis', 'rad', 'tax', 'ptratio', 'black', 'lstat']\n",
    "label_name = 'medv'\n",
    "\n",
    "features_ndarray = train_df[feature_names]\n",
    "label_ndarray = train_df[label_name]"
   ]
  },
  {
   "cell_type": "code",
   "execution_count": 7,
   "metadata": {},
   "outputs": [],
   "source": [
    "X_train, X_test, y_train, y_test = train_test_split(features_ndarray, label_ndarray, random_state=0, test_size=0.3)"
   ]
  },
  {
   "cell_type": "markdown",
   "metadata": {},
   "source": [
    "# Traning Data"
   ]
  },
  {
   "cell_type": "code",
   "execution_count": 8,
   "metadata": {},
   "outputs": [],
   "source": [
    "def train_input():\n",
    "    _dataset = tf.data.Dataset.from_tensor_slices(({'crim': X_train['crim'], \n",
    "                                                   'zn': X_train['zn'], \n",
    "                                                   'indus': X_train['indus'],\n",
    "                                                   'chas': X_train['chas'],\n",
    "                                                   'nox': X_train['nox'],\n",
    "                                                   'rm': X_train['rm'],\n",
    "                                                   'age': X_train['age'],\n",
    "                                                   'dis': X_train['dis'],\n",
    "                                                   'rad': X_train['rad'],\n",
    "                                                   'tax': X_train['tax'],\n",
    "                                                   'ptratio': X_train['ptratio'],\n",
    "                                                   'black': X_train['black'],\n",
    "                                                   'lstat': X_train['lstat']\n",
    "                                                  }, y_train))\n",
    "    dataset = _dataset.batch(32)\n",
    "    iterator = dataset.make_one_shot_iterator()\n",
    "    features, labels = iterator.get_next()\n",
    "    return features, labels"
   ]
  },
  {
   "cell_type": "markdown",
   "metadata": {},
   "source": [
    "# Validation Data"
   ]
  },
  {
   "cell_type": "code",
   "execution_count": 9,
   "metadata": {},
   "outputs": [],
   "source": [
    "def val_input():\n",
    "    _dataset = tf.data.Dataset.from_tensor_slices(({'crim': X_test['crim'], \n",
    "                                                   'zn': X_test['zn'], \n",
    "                                                   'indus': X_test['indus'],\n",
    "                                                   'chas': X_test['chas'],\n",
    "                                                   'nox': X_test['nox'],\n",
    "                                                   'rm': X_test['rm'],\n",
    "                                                   'age': X_test['age'],\n",
    "                                                   'dis': X_test['dis'],\n",
    "                                                   'rad': X_test['rad'],\n",
    "                                                   'tax': X_test['tax'],\n",
    "                                                   'ptratio': X_test['ptratio'],\n",
    "                                                   'black': X_test['black'],\n",
    "                                                   'lstat': X_test['lstat']\n",
    "                                                  }, y_test))\n",
    "    dataset = _dataset.batch(32)\n",
    "    iterator = dataset.make_one_shot_iterator()\n",
    "    features, labels = iterator.get_next()\n",
    "    return features, labels"
   ]
  },
  {
   "cell_type": "markdown",
   "metadata": {},
   "source": [
    "# Instantiate LinearRegressor"
   ]
  },
  {
   "cell_type": "code",
   "execution_count": 10,
   "metadata": {},
   "outputs": [
    {
     "name": "stdout",
     "output_type": "stream",
     "text": [
      "INFO:tensorflow:Using default config.\n",
      "WARNING:tensorflow:Using temporary folder as model directory: /var/folders/2d/49w9fshj6ljb1kjldptz0w7h0000gn/T/tmpfp014wgm\n",
      "INFO:tensorflow:Using config: {'_model_dir': '/var/folders/2d/49w9fshj6ljb1kjldptz0w7h0000gn/T/tmpfp014wgm', '_tf_random_seed': None, '_save_summary_steps': 100, '_save_checkpoints_steps': None, '_save_checkpoints_secs': 600, '_session_config': None, '_keep_checkpoint_max': 5, '_keep_checkpoint_every_n_hours': 10000, '_log_step_count_steps': 100, '_train_distribute': None, '_service': None, '_cluster_spec': <tensorflow.python.training.server_lib.ClusterSpec object at 0x1a1b562ba8>, '_task_type': 'worker', '_task_id': 0, '_global_id_in_cluster': 0, '_master': '', '_evaluation_master': '', '_is_chief': True, '_num_ps_replicas': 0, '_num_worker_replicas': 1}\n"
     ]
    }
   ],
   "source": [
    "estimator = tf.estimator.LinearRegressor(feature_columns=feature_cols)"
   ]
  },
  {
   "cell_type": "code",
   "execution_count": 11,
   "metadata": {},
   "outputs": [
    {
     "name": "stdout",
     "output_type": "stream",
     "text": [
      "INFO:tensorflow:Calling model_fn.\n",
      "INFO:tensorflow:Done calling model_fn.\n",
      "INFO:tensorflow:Create CheckpointSaverHook.\n",
      "INFO:tensorflow:Graph was finalized.\n",
      "INFO:tensorflow:Running local_init_op.\n",
      "INFO:tensorflow:Done running local_init_op.\n",
      "INFO:tensorflow:Saving checkpoints for 1 into /var/folders/2d/49w9fshj6ljb1kjldptz0w7h0000gn/T/tmpfp014wgm/model.ckpt.\n",
      "INFO:tensorflow:loss = 20052.04, step = 1\n",
      "INFO:tensorflow:Saving checkpoints for 8 into /var/folders/2d/49w9fshj6ljb1kjldptz0w7h0000gn/T/tmpfp014wgm/model.ckpt.\n",
      "INFO:tensorflow:Loss for final step: 561.62476.\n"
     ]
    },
    {
     "data": {
      "text/plain": [
       "<tensorflow.python.estimator.canned.linear.LinearRegressor at 0x1a1b5629b0>"
      ]
     },
     "execution_count": 11,
     "metadata": {},
     "output_type": "execute_result"
    }
   ],
   "source": [
    "estimator.train(input_fn=train_input, steps=None)"
   ]
  },
  {
   "cell_type": "code",
   "execution_count": 12,
   "metadata": {},
   "outputs": [
    {
     "name": "stdout",
     "output_type": "stream",
     "text": [
      "INFO:tensorflow:Calling model_fn.\n",
      "INFO:tensorflow:Done calling model_fn.\n",
      "INFO:tensorflow:Starting evaluation at 2018-09-15-15:01:45\n",
      "INFO:tensorflow:Graph was finalized.\n",
      "INFO:tensorflow:Restoring parameters from /var/folders/2d/49w9fshj6ljb1kjldptz0w7h0000gn/T/tmpfp014wgm/model.ckpt-8\n",
      "INFO:tensorflow:Running local_init_op.\n",
      "INFO:tensorflow:Done running local_init_op.\n",
      "INFO:tensorflow:Finished evaluation at 2018-09-15-15:01:46\n",
      "INFO:tensorflow:Saving dict for global step 8: average_loss = 101.03263, global_step = 8, loss = 2942.5754\n",
      "INFO:tensorflow:Calling model_fn.\n",
      "INFO:tensorflow:Done calling model_fn.\n",
      "INFO:tensorflow:Starting evaluation at 2018-09-15-15:01:46\n",
      "INFO:tensorflow:Graph was finalized.\n",
      "INFO:tensorflow:Restoring parameters from /var/folders/2d/49w9fshj6ljb1kjldptz0w7h0000gn/T/tmpfp014wgm/model.ckpt-8\n",
      "INFO:tensorflow:Running local_init_op.\n",
      "INFO:tensorflow:Done running local_init_op.\n",
      "INFO:tensorflow:Finished evaluation at 2018-09-15-15:01:46\n",
      "INFO:tensorflow:Saving dict for global step 8: average_loss = 80.139626, global_step = 8, loss = 2003.4907\n"
     ]
    }
   ],
   "source": [
    "train_e = estimator.evaluate(input_fn=train_input)\n",
    "test_e = estimator.evaluate(input_fn=val_input)"
   ]
  },
  {
   "cell_type": "code",
   "execution_count": 13,
   "metadata": {},
   "outputs": [],
   "source": [
    "preds = estimator.predict(input_fn=val_input)"
   ]
  },
  {
   "cell_type": "code",
   "execution_count": 14,
   "metadata": {},
   "outputs": [
    {
     "name": "stdout",
     "output_type": "stream",
     "text": [
      "INFO:tensorflow:Calling model_fn.\n",
      "INFO:tensorflow:Done calling model_fn.\n",
      "INFO:tensorflow:Graph was finalized.\n",
      "INFO:tensorflow:Restoring parameters from /var/folders/2d/49w9fshj6ljb1kjldptz0w7h0000gn/T/tmpfp014wgm/model.ckpt-8\n",
      "INFO:tensorflow:Running local_init_op.\n",
      "INFO:tensorflow:Done running local_init_op.\n"
     ]
    }
   ],
   "source": [
    "predictions = np.array([item['predictions'][0] for item in preds])"
   ]
  },
  {
   "cell_type": "code",
   "execution_count": 15,
   "metadata": {},
   "outputs": [
    {
     "data": {
      "text/plain": [
       "array([19.738384 , 19.701942 , 13.40074  , 19.329948 , 18.223768 ,\n",
       "       17.593994 , 18.259476 , 13.8396015, 18.684002 , 19.07943  ,\n",
       "       22.340336 , 20.918901 , 20.534126 , 18.870707 , 19.925318 ,\n",
       "       22.046883 , 19.558393 , 18.667423 , 19.788708 , 21.093403 ,\n",
       "       20.64836  , 20.164509 , 19.186544 , 22.82376  ,  7.2038608,\n",
       "       17.727411 , 20.3971   , 22.121077 , 17.777039 , 18.86451  ,\n",
       "       20.96296  , 19.79134  , 18.998981 , 19.568462 , 19.925522 ,\n",
       "       24.814579 , 19.816513 , 19.497887 , 20.027397 , 18.72643  ,\n",
       "       23.294796 , 22.643608 , 20.551254 , 19.256245 , 20.385565 ,\n",
       "       19.558657 , 20.429382 , 21.438097 , 18.303116 , 16.40173  ,\n",
       "       19.818329 , 18.213896 , 17.85627  , 19.45393  , 18.400267 ,\n",
       "       17.83765  , 20.958357 , 15.161761 , 22.99537  , 23.50764  ,\n",
       "       19.146425 , 21.547232 , 17.435684 , 23.489075 , 16.840118 ,\n",
       "       18.455595 , 22.789526 , 23.59702  , 22.52855  , 11.23262  ,\n",
       "       23.236038 , 18.722271 , 10.429    , 20.253323 , 18.732492 ,\n",
       "       21.121405 , 18.907003 , 23.72542  , 19.37487  , 18.074417 ,\n",
       "       19.880123 , 19.227207 , 23.877308 , 20.46986  , 20.374802 ,\n",
       "       22.64524  , 19.008656 , 20.484299 , 18.79101  , 23.99892  ,\n",
       "       11.492649 , 24.764832 , 21.006039 , 18.022278 , 19.323544 ,\n",
       "       18.277351 , 18.10284  , 19.63166  , 17.728262 , 23.630903 ],\n",
       "      dtype=float32)"
      ]
     },
     "execution_count": 15,
     "metadata": {},
     "output_type": "execute_result"
    }
   ],
   "source": [
    "predictions"
   ]
  },
  {
   "cell_type": "code",
   "execution_count": 32,
   "metadata": {},
   "outputs": [
    {
     "name": "stdout",
     "output_type": "stream",
     "text": [
      "{'average_loss': 101.03263, 'loss': 2942.5754, 'global_step': 8}\n"
     ]
    }
   ],
   "source": [
    "print(train_e)"
   ]
  },
  {
   "cell_type": "code",
   "execution_count": 33,
   "metadata": {},
   "outputs": [
    {
     "name": "stdout",
     "output_type": "stream",
     "text": [
      "{'average_loss': 80.139626, 'loss': 2003.4907, 'global_step': 8}\n"
     ]
    }
   ],
   "source": [
    "print(test_e)"
   ]
  },
  {
   "cell_type": "code",
   "execution_count": null,
   "metadata": {},
   "outputs": [],
   "source": []
  }
 ],
 "metadata": {
  "kernelspec": {
   "display_name": "Python 3",
   "language": "python",
   "name": "python3"
  },
  "language_info": {
   "codemirror_mode": {
    "name": "ipython",
    "version": 3
   },
   "file_extension": ".py",
   "mimetype": "text/x-python",
   "name": "python",
   "nbconvert_exporter": "python",
   "pygments_lexer": "ipython3",
   "version": "3.6.5"
  }
 },
 "nbformat": 4,
 "nbformat_minor": 2
}
