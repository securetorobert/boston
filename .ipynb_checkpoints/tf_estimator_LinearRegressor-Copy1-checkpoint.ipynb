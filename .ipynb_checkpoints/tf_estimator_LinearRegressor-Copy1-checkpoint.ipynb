{
 "cells": [
  {
   "cell_type": "code",
   "execution_count": 1,
   "metadata": {},
   "outputs": [],
   "source": [
    "import numpy as np\n",
    "import pandas as pd\n",
    "import tensorflow as tf\n",
    "from sklearn.model_selection import train_test_split"
   ]
  },
  {
   "cell_type": "code",
   "execution_count": 2,
   "metadata": {},
   "outputs": [],
   "source": [
    "train_df = pd.read_csv('./train.csv')"
   ]
  },
  {
   "cell_type": "code",
   "execution_count": 3,
   "metadata": {},
   "outputs": [
    {
     "name": "stdout",
     "output_type": "stream",
     "text": [
      "<class 'pandas.core.frame.DataFrame'>\n",
      "RangeIndex: 333 entries, 0 to 332\n",
      "Data columns (total 15 columns):\n",
      "ID         333 non-null int64\n",
      "crim       333 non-null float64\n",
      "zn         333 non-null float64\n",
      "indus      333 non-null float64\n",
      "chas       333 non-null int64\n",
      "nox        333 non-null float64\n",
      "rm         333 non-null float64\n",
      "age        333 non-null float64\n",
      "dis        333 non-null float64\n",
      "rad        333 non-null int64\n",
      "tax        333 non-null int64\n",
      "ptratio    333 non-null float64\n",
      "black      333 non-null float64\n",
      "lstat      333 non-null float64\n",
      "medv       333 non-null float64\n",
      "dtypes: float64(11), int64(4)\n",
      "memory usage: 39.1 KB\n"
     ]
    }
   ],
   "source": [
    "train_df.info()"
   ]
  },
  {
   "cell_type": "markdown",
   "metadata": {},
   "source": [
    "# Define Feature Columns"
   ]
  },
  {
   "cell_type": "code",
   "execution_count": 4,
   "metadata": {},
   "outputs": [],
   "source": [
    "crim = tf.feature_column.numeric_column('crim', dtype=tf.float64, shape=())\n",
    "zn = tf.feature_column.numeric_column('zn', dtype=tf.float64, shape=())\n",
    "indus = tf.feature_column.numeric_column('indus', dtype=tf.float64, shape=())\n",
    "chas = tf.feature_column.numeric_column('chas', dtype=tf.int64, shape=())\n",
    "nox = tf.feature_column.numeric_column('nox', dtype=tf.float64, shape=())\n",
    "rm = tf.feature_column.numeric_column('rm', dtype=tf.float64, shape=())\n",
    "age = tf.feature_column.numeric_column('age', dtype=tf.float64, shape=())\n",
    "dis = tf.feature_column.numeric_column('dis', dtype=tf.float64, shape=())\n",
    "rad = tf.feature_column.numeric_column('rad', dtype=tf.int64, shape=())\n",
    "tax = tf.feature_column.numeric_column('tax', dtype=tf.int64, shape=())\n",
    "ptratio = tf.feature_column.numeric_column('ptratio', dtype=tf.float64, shape=())\n",
    "black = tf.feature_column.numeric_column('black', dtype=tf.float64, shape=())\n",
    "lstat = tf.feature_column.numeric_column('lstat', dtype=tf.float64, shape=())"
   ]
  },
  {
   "cell_type": "code",
   "execution_count": 5,
   "metadata": {},
   "outputs": [],
   "source": [
    "feature_cols = [crim, zn, indus, chas, nox, rm, age, dis, rad, tax, ptratio, black, lstat]"
   ]
  },
  {
   "cell_type": "markdown",
   "metadata": {},
   "source": [
    "# Prepare Data for Input Functions"
   ]
  },
  {
   "cell_type": "code",
   "execution_count": 6,
   "metadata": {},
   "outputs": [],
   "source": [
    "feature_names = ['crim', 'zn', 'indus', 'chas', 'nox', 'rm', 'age', 'dis', 'rad', 'tax', 'ptratio', 'black', 'lstat']\n",
    "label_name = 'medv'\n",
    "\n",
    "features_ndarray = train_df[feature_names]\n",
    "label_ndarray = train_df[label_name]"
   ]
  },
  {
   "cell_type": "code",
   "execution_count": 7,
   "metadata": {},
   "outputs": [],
   "source": [
    "X_train, X_test, y_train, y_test = train_test_split(features_ndarray, label_ndarray, random_state=0, test_size=0.3)"
   ]
  },
  {
   "cell_type": "markdown",
   "metadata": {},
   "source": [
    "# Traning Data"
   ]
  },
  {
   "cell_type": "code",
   "execution_count": 8,
   "metadata": {},
   "outputs": [],
   "source": [
    "def train_input():\n",
    "    _dataset = tf.data.Dataset.from_tensor_slices(({'crim': X_train['crim'], \n",
    "                                                   'zn': X_train['zn'], \n",
    "                                                   'indus': X_train['indus'],\n",
    "                                                   'chas': X_train['chas'],\n",
    "                                                   'nox': X_train['nox'],\n",
    "                                                   'rm': X_train['rm'],\n",
    "                                                   'age': X_train['age'],\n",
    "                                                   'dis': X_train['dis'],\n",
    "                                                   'rad': X_train['rad'],\n",
    "                                                   'tax': X_train['tax'],\n",
    "                                                   'ptratio': X_train['ptratio'],\n",
    "                                                   'black': X_train['black'],\n",
    "                                                   'lstat': X_train['lstat']\n",
    "                                                  }, y_train))\n",
    "    dataset = _dataset.batch(32)\n",
    "    iterator = dataset.make_one_shot_iterator()\n",
    "    features, labels = iterator.get_next()\n",
    "    return features, labels"
   ]
  },
  {
   "cell_type": "markdown",
   "metadata": {},
   "source": [
    "# Validation Data"
   ]
  },
  {
   "cell_type": "code",
   "execution_count": 34,
   "metadata": {},
   "outputs": [],
   "source": [
    "def val_input():\n",
    "    _dataset = tf.data.Dataset.from_tensor_slices(({'crim': X_test['crim'], \n",
    "                                                   'zn': X_test['zn'], \n",
    "                                                   'indus': X_test['indus'],\n",
    "                                                   'chas': X_test['chas'],\n",
    "                                                   'nox': X_test['nox'],\n",
    "                                                   'rm': X_test['rm'],\n",
    "                                                   'age': X_test['age'],\n",
    "                                                   'dis': X_test['dis'],\n",
    "                                                   'rad': X_test['rad'],\n",
    "                                                   'tax': X_test['tax'],\n",
    "                                                   'ptratio': X_test['ptratio'],\n",
    "                                                   'black': X_test['black'],\n",
    "                                                   'lstat': X_test['lstat']\n",
    "                                                  }, y_test))\n",
    "    dataset = _dataset.batch(32)\n",
    "    iterator = dataset.make_one_shot_iterator()\n",
    "    features, labels = iterator.get_next()\n",
    "    return features, labels"
   ]
  },
  {
   "cell_type": "markdown",
   "metadata": {},
   "source": [
    "# Instantiate LinearRegressor"
   ]
  },
  {
   "cell_type": "code",
   "execution_count": 10,
   "metadata": {},
   "outputs": [
    {
     "name": "stdout",
     "output_type": "stream",
     "text": [
      "INFO:tensorflow:Using default config.\n",
      "WARNING:tensorflow:Using temporary folder as model directory: /var/folders/2d/49w9fshj6ljb1kjldptz0w7h0000gn/T/tmpr7d16c29\n",
      "INFO:tensorflow:Using config: {'_model_dir': '/var/folders/2d/49w9fshj6ljb1kjldptz0w7h0000gn/T/tmpr7d16c29', '_tf_random_seed': None, '_save_summary_steps': 100, '_save_checkpoints_steps': None, '_save_checkpoints_secs': 600, '_session_config': None, '_keep_checkpoint_max': 5, '_keep_checkpoint_every_n_hours': 10000, '_log_step_count_steps': 100, '_train_distribute': None, '_service': None, '_cluster_spec': <tensorflow.python.training.server_lib.ClusterSpec object at 0x11865bba8>, '_task_type': 'worker', '_task_id': 0, '_global_id_in_cluster': 0, '_master': '', '_evaluation_master': '', '_is_chief': True, '_num_ps_replicas': 0, '_num_worker_replicas': 1}\n"
     ]
    }
   ],
   "source": [
    "estimator = tf.estimator.LinearRegressor(feature_columns=feature_cols)"
   ]
  },
  {
   "cell_type": "code",
   "execution_count": 25,
   "metadata": {},
   "outputs": [
    {
     "name": "stdout",
     "output_type": "stream",
     "text": [
      "INFO:tensorflow:Calling model_fn.\n",
      "INFO:tensorflow:Done calling model_fn.\n",
      "INFO:tensorflow:Create CheckpointSaverHook.\n",
      "INFO:tensorflow:Graph was finalized.\n",
      "INFO:tensorflow:Restoring parameters from /var/folders/2d/49w9fshj6ljb1kjldptz0w7h0000gn/T/tmpr7d16c29/model.ckpt-16\n",
      "INFO:tensorflow:Running local_init_op.\n",
      "INFO:tensorflow:Done running local_init_op.\n",
      "INFO:tensorflow:Saving checkpoints for 17 into /var/folders/2d/49w9fshj6ljb1kjldptz0w7h0000gn/T/tmpr7d16c29/model.ckpt.\n",
      "INFO:tensorflow:loss = 2495.4827, step = 17\n",
      "INFO:tensorflow:Saving checkpoints for 24 into /var/folders/2d/49w9fshj6ljb1kjldptz0w7h0000gn/T/tmpr7d16c29/model.ckpt.\n",
      "INFO:tensorflow:Loss for final step: 419.80994.\n"
     ]
    },
    {
     "data": {
      "text/plain": [
       "<tensorflow.python.estimator.canned.linear.LinearRegressor at 0x11865b8d0>"
      ]
     },
     "execution_count": 25,
     "metadata": {},
     "output_type": "execute_result"
    }
   ],
   "source": [
    "estimator.train(input_fn=train_input, steps=None)"
   ]
  },
  {
   "cell_type": "code",
   "execution_count": 12,
   "metadata": {},
   "outputs": [
    {
     "name": "stdout",
     "output_type": "stream",
     "text": [
      "INFO:tensorflow:Calling model_fn.\n",
      "INFO:tensorflow:Done calling model_fn.\n",
      "INFO:tensorflow:Starting evaluation at 2018-06-30-16:52:01\n",
      "INFO:tensorflow:Graph was finalized.\n",
      "INFO:tensorflow:Restoring parameters from /var/folders/2d/49w9fshj6ljb1kjldptz0w7h0000gn/T/tmpr7d16c29/model.ckpt-8\n",
      "INFO:tensorflow:Running local_init_op.\n",
      "INFO:tensorflow:Done running local_init_op.\n",
      "INFO:tensorflow:Finished evaluation at 2018-06-30-16:52:01\n",
      "INFO:tensorflow:Saving dict for global step 8: average_loss = 101.03263, global_step = 8, loss = 2942.5754\n",
      "INFO:tensorflow:Calling model_fn.\n",
      "INFO:tensorflow:Done calling model_fn.\n",
      "INFO:tensorflow:Starting evaluation at 2018-06-30-16:52:02\n",
      "INFO:tensorflow:Graph was finalized.\n",
      "INFO:tensorflow:Restoring parameters from /var/folders/2d/49w9fshj6ljb1kjldptz0w7h0000gn/T/tmpr7d16c29/model.ckpt-8\n",
      "INFO:tensorflow:Running local_init_op.\n",
      "INFO:tensorflow:Done running local_init_op.\n",
      "INFO:tensorflow:Finished evaluation at 2018-06-30-16:52:03\n",
      "INFO:tensorflow:Saving dict for global step 8: average_loss = 80.139626, global_step = 8, loss = 2003.4907\n"
     ]
    }
   ],
   "source": [
    "train_e = estimator.evaluate(input_fn=train_input)\n",
    "test_e = estimator.evaluate(input_fn=val_input)"
   ]
  },
  {
   "cell_type": "code",
   "execution_count": 28,
   "metadata": {},
   "outputs": [],
   "source": [
    "preds = estimator.predict(input_fn=val_input)"
   ]
  },
  {
   "cell_type": "code",
   "execution_count": 29,
   "metadata": {},
   "outputs": [
    {
     "name": "stdout",
     "output_type": "stream",
     "text": [
      "INFO:tensorflow:Calling model_fn.\n",
      "INFO:tensorflow:Done calling model_fn.\n",
      "INFO:tensorflow:Graph was finalized.\n",
      "INFO:tensorflow:Restoring parameters from /var/folders/2d/49w9fshj6ljb1kjldptz0w7h0000gn/T/tmpr7d16c29/model.ckpt-24\n",
      "INFO:tensorflow:Running local_init_op.\n",
      "INFO:tensorflow:Done running local_init_op.\n"
     ]
    }
   ],
   "source": [
    "predictions = np.array([item['predictions'][0] for item in preds])"
   ]
  },
  {
   "cell_type": "code",
   "execution_count": 31,
   "metadata": {},
   "outputs": [
    {
     "data": {
      "text/plain": [
       "array([ 2.3335239e+01,  2.3495895e+01,  7.0029507e+00,  1.8936348e+01,\n",
       "        2.0762323e+01,  1.9568039e+01,  2.0482147e+01,  7.9193182e+00,\n",
       "        2.1119211e+01,  2.0963366e+01,  1.9137793e+01,  2.1727903e+01,\n",
       "        2.6139978e+01,  2.0977312e+01,  2.1505898e+01,  2.5764175e+01,\n",
       "        2.0583954e+01,  2.0826008e+01,  2.2977926e+01,  2.1985798e+01,\n",
       "        2.1712570e+01,  2.0485041e+01,  1.5247025e+01,  1.8009115e+01,\n",
       "       -6.9752893e+00,  2.0675732e+01,  2.4069044e+01,  2.9649847e+01,\n",
       "        2.0477301e+01,  2.1192108e+01,  2.0902830e+01,  2.3111647e+01,\n",
       "        1.9437641e+01,  2.1532497e+01,  2.0787018e+01,  2.2773581e+01,\n",
       "        2.2955055e+01,  1.8888590e+01,  2.2971472e+01,  2.1215263e+01,\n",
       "        2.0927177e+01,  2.6998167e+01,  2.4059172e+01,  2.1545889e+01,\n",
       "        2.2864855e+01,  2.3279930e+01,  2.1948973e+01,  2.7852308e+01,\n",
       "        2.1165993e+01,  1.5227394e+01,  2.3209238e+01,  2.0501278e+01,\n",
       "        2.0759714e+01,  1.5424297e+01,  2.1105978e+01,  2.0262516e+01,\n",
       "        2.1114357e+01,  1.5783908e+01,  3.0551271e+01,  2.1578844e+01,\n",
       "        2.1419687e+01,  2.9320936e+01,  1.6815825e+01,  2.0627319e+01,\n",
       "        1.7417431e+01,  2.0436016e+01,  2.0007158e+01,  2.1527164e+01,\n",
       "        2.9272093e+01,  1.6638882e-02,  1.8536369e+01,  2.0393177e+01,\n",
       "        1.9237211e+00,  2.2809366e+01,  2.0950825e+01,  1.7128904e+01,\n",
       "        2.1642832e+01,  2.1380411e+01,  2.1515413e+01,  2.0930521e+01,\n",
       "        2.3275030e+01,  1.3353783e+01,  2.1065367e+01,  2.1563162e+01,\n",
       "        2.3852921e+01,  2.6993559e+01,  2.1160788e+01,  2.2583557e+01,\n",
       "        2.2556698e+01,  2.1660746e+01,  4.0055327e+00,  2.8977705e+01,\n",
       "        2.5162331e+01,  2.0162279e+01,  2.1742748e+01,  2.1508144e+01,\n",
       "        2.0590290e+01,  2.2178032e+01,  2.0727533e+01,  2.0240469e+01],\n",
       "      dtype=float32)"
      ]
     },
     "execution_count": 31,
     "metadata": {},
     "output_type": "execute_result"
    }
   ],
   "source": [
    "predictions"
   ]
  },
  {
   "cell_type": "code",
   "execution_count": 32,
   "metadata": {},
   "outputs": [
    {
     "name": "stdout",
     "output_type": "stream",
     "text": [
      "{'average_loss': 101.03263, 'loss': 2942.5754, 'global_step': 8}\n"
     ]
    }
   ],
   "source": [
    "print(train_e)"
   ]
  },
  {
   "cell_type": "code",
   "execution_count": 33,
   "metadata": {},
   "outputs": [
    {
     "name": "stdout",
     "output_type": "stream",
     "text": [
      "{'average_loss': 80.139626, 'loss': 2003.4907, 'global_step': 8}\n"
     ]
    }
   ],
   "source": [
    "print(test_e)"
   ]
  },
  {
   "cell_type": "code",
   "execution_count": null,
   "metadata": {},
   "outputs": [],
   "source": []
  }
 ],
 "metadata": {
  "kernelspec": {
   "display_name": "Python 3",
   "language": "python",
   "name": "python3"
  },
  "language_info": {
   "codemirror_mode": {
    "name": "ipython",
    "version": 3
   },
   "file_extension": ".py",
   "mimetype": "text/x-python",
   "name": "python",
   "nbconvert_exporter": "python",
   "pygments_lexer": "ipython3",
   "version": "3.6.5"
  }
 },
 "nbformat": 4,
 "nbformat_minor": 2
}
